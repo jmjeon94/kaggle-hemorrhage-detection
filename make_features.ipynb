{
 "cells": [
  {
   "cell_type": "code",
   "execution_count": 35,
   "metadata": {},
   "outputs": [
    {
     "name": "stderr",
     "output_type": "stream",
     "text": [
      "[Test]\tLoss:0.09219: 100%|██████████| 333/333 [00:12<00:00, 26.18it/s]\n"
     ]
    }
   ],
   "source": [
    "from utils.checkpoints import load_checkpoint\n",
    "from constants import *\n",
    "from models.densenet121 import DenseNet121_change_avg\n",
    "from dataloader.dataloader import HmDataset\n",
    "from dataloader.transforms import transforms\n",
    "from main.fit import fit\n",
    "\n",
    "from torch.utils.data import DataLoader\n",
    "import torch.optim as optim\n",
    "import torch.nn as nn\n",
    "\n",
    "# get test data loader\n",
    "train_dataset = HmDataset(df_path='./dataset/train.csv', transforms=transforms, mode=DATASET_MODE)\n",
    "valid_dataset = HmDataset(df_path='./dataset/valid.csv', transforms=transforms, mode=DATASET_MODE)\n",
    "test_dataset = HmDataset(df_path='./dataset/test.csv', transforms=transforms, mode=DATASET_MODE)\n",
    "\n",
    "train_loader = DataLoader(train_dataset,\n",
    "                         batch_size=1,\n",
    "                         shuffle=False,\n",
    "                         num_workers=4)\n",
    "valid_loader = DataLoader(valid_dataset,\n",
    "                         batch_size=1,\n",
    "                         shuffle=False,\n",
    "                         num_workers=4)\n",
    "test_loader = DataLoader(test_dataset,\n",
    "                         batch_size=1,\n",
    "                         shuffle=False,\n",
    "                         drop_last=False,\n",
    "                         num_workers=4)\n",
    "\n",
    "# create model\n",
    "model = DenseNet121_change_avg()\n",
    "criterion = nn.BCELoss()\n",
    "optimizer = optim.SGD(model.parameters(), lr=INITIAL_LR, momentum=0.9)\n",
    "\n",
    "# load model\n",
    "model =  DenseNet121_change_avg()\n",
    "model, optimizer, _, epoch = load_checkpoint('./checkpoints/200601_223249_DenseNet121_LR0.001_BS64_BCELoss/  8.pth', model, optimizer)\n",
    "\n",
    "device = 'cuda' if torch.cuda.is_available() else 'cpu'\n",
    "model.to(device)"
   ]
  },
  {
   "cell_type": "code",
   "execution_count": 59,
   "metadata": {},
   "outputs": [],
   "source": [
    "from tqdm import tqdm\n",
    "import pandas as pd\n",
    "def get_features(data_loader):\n",
    "    feature_array = []\n",
    "    \n",
    "    for filename, target, inputs in tqdm(data_loader, position=0):\n",
    "\n",
    "        target, inputs = target.to(device), inputs.to(device)\n",
    "        pred_label, features = model(inputs)\n",
    "        \n",
    "        row = [filename[0], pred_label.squeeze().cpu().detach().numpy(), features.squeeze().cpu().detach().numpy()]\n",
    "        feature_array.append(row)\n",
    "        \n",
    "    df = pd.DataFrame(feature_array, columns=['filename','label','features'])\n",
    "    return df"
   ]
  },
  {
   "cell_type": "code",
   "execution_count": 60,
   "metadata": {},
   "outputs": [
    {
     "name": "stderr",
     "output_type": "stream",
     "text": [
      "100%|██████████| 333/333 [00:13<00:00, 24.76it/s]\n"
     ]
    }
   ],
   "source": [
    "df = get_features(test_loader)\n",
    "df.to_csv('./dataset/valid_features.csv')"
   ]
  }
 ],
 "metadata": {
  "kernelspec": {
   "display_name": "Environment (conda_pytorch_latest_p36)",
   "language": "python",
   "name": "conda_pytorch_latest_p36"
  },
  "language_info": {
   "codemirror_mode": {
    "name": "ipython",
    "version": 3
   },
   "file_extension": ".py",
   "mimetype": "text/x-python",
   "name": "python",
   "nbconvert_exporter": "python",
   "pygments_lexer": "ipython3",
   "version": "3.6.10"
  }
 },
 "nbformat": 4,
 "nbformat_minor": 4
}
