{
 "cells": [
  {
   "cell_type": "code",
   "execution_count": 31,
   "metadata": {},
   "outputs": [
    {
     "data": {
      "text/plain": [
       "''"
      ]
     },
     "execution_count": 31,
     "metadata": {},
     "output_type": "execute_result"
    }
   ],
   "source": [
    "from utils.checkpoints import load_checkpoint\n",
    "from constants import *\n",
    "from models.densenet121 import DenseNet121_change_avg\n",
    "from dataloader.dataloader import HmDataset\n",
    "from dataloader.transforms import transforms\n",
    "from main.fit import fit\n",
    "\n",
    "from torch.utils.data import DataLoader\n",
    "import torch.optim as optim\n",
    "import torch.nn as nn\n",
    "\n",
    "# get test data loader\n",
    "train_dataset = HmDataset(df_path='./dataset/train.csv', transforms=transforms, mode=DATASET_MODE)\n",
    "valid_dataset = HmDataset(df_path='./dataset/valid.csv', transforms=transforms, mode=DATASET_MODE)\n",
    "test_dataset = HmDataset(df_path='./dataset/test.csv', transforms=transforms, mode=DATASET_MODE)\n",
    "\n",
    "train_loader = DataLoader(train_dataset,\n",
    "                         batch_size=1,\n",
    "                         shuffle=False,\n",
    "                         num_workers=4)\n",
    "valid_loader = DataLoader(valid_dataset,\n",
    "                         batch_size=1,\n",
    "                         shuffle=False,\n",
    "                         num_workers=4)\n",
    "test_loader = DataLoader(test_dataset,\n",
    "                         batch_size=1,\n",
    "                         shuffle=False,\n",
    "                         drop_last=False,\n",
    "                         num_workers=4)\n",
    "\n",
    "# create model\n",
    "# model = DenseNet121_change_avg()\n",
    "criterion = nn.BCELoss()\n",
    "optimizer = optim.SGD(model.parameters(), lr=INITIAL_LR, momentum=0.9)\n",
    "\n",
    "# load model\n",
    "model =  DenseNet121_change_avg()\n",
    "\n",
    "# ckpt_path = './checkpoints/cnn/model_epoch_best_4.pth'\n",
    "# ckpt_dict = torch.load(ckpt_path)\n",
    "# model.load_state_dict(ckpt['state_dict'])\n",
    "\n",
    "model, optimizer, _, epoch = load_checkpoint('./checkpoints/cnn/2000601_223249_DenseNet121_LR0.001_BS64_BCELoss/  8.pth', model, optimizer)\n",
    "\n",
    "\n",
    "device = 'cuda' if torch.cuda.is_available() else 'cpu'\n",
    "model.to(device)\n",
    "''''''"
   ]
  },
  {
   "cell_type": "code",
   "execution_count": 32,
   "metadata": {},
   "outputs": [],
   "source": [
    "from tqdm import tqdm\n",
    "import pandas as pd\n",
    "def get_features(data_loader):\n",
    "    \n",
    "    for i, (filename, target, inputs) in enumerate(tqdm(data_loader, position=0)):\n",
    "\n",
    "        target, inputs = target.to(device), inputs.to(device)\n",
    "        pred_label, features = model(inputs)\n",
    "        \n",
    "        df_filename = pd.DataFrame([filename], columns=['filename'])\n",
    "        \n",
    "        df_label = pd.DataFrame(np.expand_dims(pred_label.squeeze().cpu().detach().numpy(), axis=0))\n",
    "        df_label = df_label.add_prefix('label_')\n",
    "        \n",
    "        df_features = pd.DataFrame(np.expand_dims(features.squeeze().cpu().detach().numpy(), axis=0))\n",
    "        df_features = df_features.add_prefix('feature_')\n",
    "        \n",
    "        row_df = pd.concat([df_filename, df_label, df_features], axis=1)\n",
    "\n",
    "        if i==0:\n",
    "            df = row_df\n",
    "        else:\n",
    "            df = df.append(row_df)\n",
    "            \n",
    "    return df"
   ]
  },
  {
   "cell_type": "code",
   "execution_count": 135,
   "metadata": {},
   "outputs": [
    {
     "name": "stderr",
     "output_type": "stream",
     "text": [
      "100%|██████████| 2760/2760 [02:16<00:00, 20.16it/s]\n"
     ]
    }
   ],
   "source": [
    "df = get_features(train_loader)\n",
    "df.to_csv('./dataset/train_features.csv', index=None)"
   ]
  },
  {
   "cell_type": "code",
   "execution_count": 136,
   "metadata": {},
   "outputs": [
    {
     "name": "stderr",
     "output_type": "stream",
     "text": [
      "100%|██████████| 336/336 [00:16<00:00, 20.65it/s]\n"
     ]
    }
   ],
   "source": [
    "df = get_features(valid_loader)\n",
    "df.to_csv('./dataset/valid_features.csv', index=None)"
   ]
  },
  {
   "cell_type": "code",
   "execution_count": 132,
   "metadata": {},
   "outputs": [
    {
     "name": "stderr",
     "output_type": "stream",
     "text": [
      "100%|██████████| 333/333 [00:16<00:00, 19.92it/s]\n"
     ]
    }
   ],
   "source": [
    "df = get_features(test_loader)\n",
    "df.to_csv('./dataset/test_features.csv', index=None)"
   ]
  }
 ],
 "metadata": {
  "kernelspec": {
   "display_name": "Environment (conda_pytorch_latest_p36)",
   "language": "python",
   "name": "conda_pytorch_latest_p36"
  },
  "language_info": {
   "codemirror_mode": {
    "name": "ipython",
    "version": 3
   },
   "file_extension": ".py",
   "mimetype": "text/x-python",
   "name": "python",
   "nbconvert_exporter": "python",
   "pygments_lexer": "ipython3",
   "version": "3.6.10"
  }
 },
 "nbformat": 4,
 "nbformat_minor": 4
}
