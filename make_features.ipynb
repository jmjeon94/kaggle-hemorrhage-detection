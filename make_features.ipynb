{
 "cells": [
  {
   "cell_type": "code",
   "execution_count": 1,
   "metadata": {
    "pycharm": {
     "is_executing": false
    }
   },
   "outputs": [],
   "source": [
    "from utils.checkpoints import load_checkpoint\n",
    "from constants import *\n",
    "from models.densenet121 import DenseNet121_change_avg\n",
    "from dataloader.dataloader import HmDataset\n",
    "from dataloader.transforms import build_transform\n",
    "\n",
    "from torch.utils.data import DataLoader\n",
    "import torch.optim as optim\n",
    "import torch.nn as nn"
   ]
  },
  {
   "cell_type": "code",
   "execution_count": 2,
   "metadata": {},
   "outputs": [],
   "source": [
    "# get test data loader\n",
    "transforms = build_transform()\n",
    "\n",
    "train_dataset = HmDataset(df_path='./dataset/train.csv', transforms=transforms, mode=DATASET_MODE)\n",
    "valid_dataset = HmDataset(df_path='./dataset/valid.csv', transforms=transforms, mode=DATASET_MODE)\n",
    "test_dataset = HmDataset(df_path='./dataset/test.csv', transforms=transforms, mode=DATASET_MODE)\n",
    "\n",
    "train_loader = DataLoader(train_dataset,\n",
    "                         batch_size=1,\n",
    "                         shuffle=False,\n",
    "                         num_workers=4)\n",
    "valid_loader = DataLoader(valid_dataset,\n",
    "                         batch_size=1,\n",
    "                         shuffle=False,\n",
    "                         num_workers=4)\n",
    "test_loader = DataLoader(test_dataset,\n",
    "                         batch_size=1,\n",
    "                         shuffle=False,\n",
    "                         drop_last=False,\n",
    "                         num_workers=4)"
   ]
  },
  {
   "cell_type": "code",
   "execution_count": 3,
   "metadata": {},
   "outputs": [
    {
     "data": {
      "text/plain": [
       "''"
      ]
     },
     "execution_count": 3,
     "metadata": {},
     "output_type": "execute_result"
    }
   ],
   "source": [
    "# create model\n",
    "model = DenseNet121_change_avg()\n",
    "criterion = nn.BCELoss()\n",
    "optimizer = optim.SGD(model.parameters(), lr=INITIAL_LR, momentum=0.9)\n",
    "\n",
    "model, optimizer, _, epoch = load_checkpoint('./checkpoints/cnn/200616_182029_DenseNet121_LR0.0005_BS64_BCELoss/034.pth', model, optimizer)\n",
    "\n",
    "device = 'cuda' if torch.cuda.is_available() else 'cpu'\n",
    "model.to(device)\n",
    "model.eval()\n",
    "''''''"
   ]
  },
  {
   "cell_type": "code",
   "execution_count": 4,
   "metadata": {},
   "outputs": [],
   "source": [
    "from tqdm import tqdm\n",
    "import pandas as pd\n",
    "import numpy as np\n",
    "\n",
    "def get_features(data_loader):\n",
    "    \n",
    "    for i, (filename, target, inputs) in enumerate(tqdm(data_loader, position=0)):\n",
    "\n",
    "        target, inputs = target.to(device), inputs.to(device)\n",
    "        pred_label, features = model(inputs)\n",
    "        \n",
    "        df_filename = pd.DataFrame([filename], columns=['filename'])\n",
    "        \n",
    "        # get pred label (after sigmoid)\n",
    "        df_label = pd.DataFrame(np.expand_dims(torch.sigmoid(pred_label).squeeze().cpu().detach().numpy(), axis=0))\n",
    "        df_label = df_label.add_prefix('label_')\n",
    "        \n",
    "        # get features\n",
    "        df_features = pd.DataFrame(np.expand_dims(features.squeeze().cpu().detach().numpy(), axis=0))\n",
    "        df_features = df_features.add_prefix('feature_')\n",
    "        \n",
    "        row_df = pd.concat([df_filename, df_label, df_features], axis=1)\n",
    "\n",
    "        if i==0:\n",
    "            df = row_df\n",
    "        else:\n",
    "            df = df.append(row_df)\n",
    "            \n",
    "    return df"
   ]
  },
  {
   "cell_type": "code",
   "execution_count": 5,
   "metadata": {},
   "outputs": [
    {
     "name": "stderr",
     "output_type": "stream",
     "text": [
      "100%|██████████| 2051/2051 [01:20<00:00, 25.44it/s]\n"
     ]
    }
   ],
   "source": [
    "with torch.no_grad():\n",
    "    df = get_features(valid_loader)\n",
    "    df.to_csv('./dataset/valid_features.csv', index=None)"
   ]
  },
  {
   "cell_type": "code",
   "execution_count": 6,
   "metadata": {},
   "outputs": [
    {
     "name": "stderr",
     "output_type": "stream",
     "text": [
      "100%|██████████| 2073/2073 [01:20<00:00, 25.69it/s]\n"
     ]
    }
   ],
   "source": [
    "with torch.no_grad():\n",
    "    df = get_features(test_loader)\n",
    "    df.to_csv('./dataset/test_features.csv', index=None)"
   ]
  },
  {
   "cell_type": "code",
   "execution_count": 7,
   "metadata": {},
   "outputs": [
    {
     "name": "stderr",
     "output_type": "stream",
     "text": [
      "100%|██████████| 16663/16663 [15:00<00:00, 18.51it/s]\n"
     ]
    }
   ],
   "source": [
    "with torch.no_grad():\n",
    "    df = get_features(train_loader)\n",
    "    df.to_csv('./dataset/train_features.csv', index=None)"
   ]
  },
  {
   "cell_type": "code",
   "execution_count": null,
   "metadata": {},
   "outputs": [],
   "source": []
  }
 ],
 "metadata": {
  "kernelspec": {
   "display_name": "Environment (conda_pytorch_latest_p36)",
   "language": "python",
   "name": "conda_pytorch_latest_p36"
  },
  "language_info": {
   "codemirror_mode": {
    "name": "ipython",
    "version": 3
   },
   "file_extension": ".py",
   "mimetype": "text/x-python",
   "name": "python",
   "nbconvert_exporter": "python",
   "pygments_lexer": "ipython3",
   "version": "3.6.10"
  },
  "pycharm": {
   "stem_cell": {
    "cell_type": "raw",
    "metadata": {
     "collapsed": false
    },
    "source": []
   }
  }
 },
 "nbformat": 4,
 "nbformat_minor": 4
}
