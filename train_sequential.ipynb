{
 "cells": [
  {
   "cell_type": "code",
   "execution_count": 86,
   "metadata": {},
   "outputs": [],
   "source": [
    "import pandas as pd\n",
    "import numpy as np\n",
    "import torch\n",
    "import torch.nn as nn\n",
    "from torch.utils.data import Dataset"
   ]
  },
  {
   "cell_type": "markdown",
   "metadata": {},
   "source": [
    "# 데이터셋 구성"
   ]
  },
  {
   "cell_type": "code",
   "execution_count": 79,
   "metadata": {},
   "outputs": [],
   "source": [
    "class SequentialHmData(Dataset):\n",
    "    def __init__(self, feature_path, df_path):\n",
    "        self.feature_df = pd.read_csv(feature_path)\n",
    "        self.ref_df = pd.read_csv(df_path)\n",
    "        self.person_ids = self.ref_df.study_instance_uid.unique()\n",
    "        \n",
    "    def __getitem__(self, index):\n",
    "        current_person_id = self.person_ids[index]\n",
    "        filenames = self.ref_df[self.ref_df.study_instance_uid==current_person_id].filename\n",
    "\n",
    "        df_current_person = self.feature_df[self.feature_df.filename.isin(filenames)]\n",
    "        label = df_current_person.iloc[:,1:7]\n",
    "        features = df_current_person.iloc[:,7:]\n",
    "        return label, features\n",
    "    \n",
    "    def __len__(self):\n",
    "        return len(self.ref_df.study_instance_uid.unique())"
   ]
  },
  {
   "cell_type": "code",
   "execution_count": 80,
   "metadata": {},
   "outputs": [],
   "source": [
    "train_dataset = SequentialHmData(feature_path='./dataset/train_features.csv', df_path='./dataset/train.csv')\n",
    "valid_dataset = SequentialHmData(feature_path='./dataset/valid_features.csv', df_path='./dataset/valid.csv')\n",
    "test_dataset = SequentialHmData(feature_path='./dataset/test_features.csv', df_path='./dataset/test.csv')"
   ]
  },
  {
   "cell_type": "code",
   "execution_count": 210,
   "metadata": {},
   "outputs": [
    {
     "data": {
      "text/plain": [
       "(36, 6)"
      ]
     },
     "execution_count": 210,
     "metadata": {},
     "output_type": "execute_result"
    }
   ],
   "source": [
    "train_dataset[0][0].shape"
   ]
  },
  {
   "cell_type": "markdown",
   "metadata": {},
   "source": [
    "# 모델 생성"
   ]
  },
  {
   "cell_type": "code",
   "execution_count": 212,
   "metadata": {},
   "outputs": [
    {
     "data": {
      "text/plain": [
       "(torch.Size([10, 6, 1, 35]), torch.Size([10, 6, 1, 35]))"
      ]
     },
     "execution_count": 212,
     "metadata": {},
     "output_type": "execute_result"
    }
   ],
   "source": [
    "class SequenceModel(nn.Module):\n",
    "    def __init__(self, ch_in=1024):\n",
    "        super(SequenceModel, self).__init__()\n",
    "        drop_out = 0.5\n",
    "        hidden = 96\n",
    "        lstm_layers = 2\n",
    "        feature_num=1\n",
    "        ratio = 1\n",
    "        self.ratio=ratio\n",
    "        \n",
    "        # seq model 1\n",
    "        self.fea_conv = nn.Sequential(nn.Dropout2d(drop_out),\n",
    "                                      nn.Conv2d(ch_in, 512, kernel_size=(1, 1), stride=(1,1),padding=(0,0), bias=False),\n",
    "                                      nn.BatchNorm2d(512),\n",
    "                                      nn.ReLU(),\n",
    "                                      nn.Dropout2d(drop_out),\n",
    "                                      nn.Conv2d(512, 128, kernel_size=(1, 1), stride=(1, 1), padding=(0, 0), bias=False),\n",
    "                                      nn.BatchNorm2d(128),\n",
    "                                      nn.ReLU(),\n",
    "                                      nn.Dropout2d(drop_out),\n",
    "                                      )\n",
    "\n",
    "        self.fea_first_final = nn.Sequential(nn.Conv2d(128*feature_num, 6, kernel_size=(1, 1), stride=(1, 1), padding=(0, 0), bias=True))\n",
    "\n",
    "        # # bidirectional GRU\n",
    "        self.hidden_fea = hidden\n",
    "        self.fea_lstm = nn.GRU(128*feature_num, self.hidden_fea, num_layers=lstm_layers, batch_first=True, bidirectional=True)\n",
    "        self.fea_lstm_final = nn.Sequential(nn.Conv2d(1, 6, kernel_size=(1, self.hidden_fea*2), stride=(1, 1), padding=(0, 0), dilation=1, bias=True))\n",
    "        \n",
    "        \n",
    "        # seq model 2\n",
    "        self.conv_first = nn.Sequential(nn.Conv2d(12, 128*ratio, kernel_size=(5, 1), stride=(1,1),padding=(2,0),dilation=1, bias=False),\n",
    "                                        nn.BatchNorm2d(128*ratio),\n",
    "                                        nn.ReLU(),\n",
    "                                        nn.Conv2d(128*ratio, 64*ratio, kernel_size=(3, 1), stride=(1, 1), padding=(2, 0),dilation=2, bias=False),\n",
    "                                        nn.BatchNorm2d(64*ratio),\n",
    "                                        nn.ReLU())\n",
    "\n",
    "        self.conv_res = nn.Sequential(nn.Conv2d(64 * ratio, 64 * ratio, kernel_size=(3, 1), stride=(1, 1),padding=(4, 0),dilation=4, bias=False),\n",
    "                                      nn.BatchNorm2d(64 * ratio),\n",
    "                                      nn.ReLU(),\n",
    "                                      nn.Conv2d(64 * ratio, 64 * ratio, kernel_size=(3, 1), stride=(1, 1),padding=(2, 0),dilation=2, bias=False),\n",
    "                                      nn.BatchNorm2d(64 * ratio),\n",
    "                                      nn.ReLU())\n",
    "\n",
    "        self.conv_final = nn.Sequential(nn.Conv2d(64*ratio, 1, kernel_size=(3, 1), stride=(1, 1), padding=(1, 0), dilation=1,bias=False))\n",
    "\n",
    "        # bidirectional GRU\n",
    "        self.hidden = hidden\n",
    "        self.lstm = nn.GRU(64*ratio, self.hidden, num_layers=lstm_layers, batch_first=True, bidirectional=True)\n",
    "        self.final = nn.Sequential(nn.Conv2d(1, 6, kernel_size=(1, self.hidden*2), stride=(1, 1), padding=(0, 0), dilation=1, bias=True))\n",
    "\n",
    "\n",
    "    def forward(self, features, x):\n",
    "        \n",
    "        batch_size, _, _, _ = features.shape\n",
    "        \n",
    "        # stem_fc\n",
    "        x_fc = self.fea_conv(features) # (N, LenFeat, 1, LenSeq)\n",
    "        \n",
    "        # fc\n",
    "        out11 = self.fea_first_final(x_fc) # (N, 6, 1, LenSeq)\n",
    "\n",
    "        # lstm\n",
    "        x_lstm, _ = self.fea_lstm(x_fc.view(batch_size, -1, 128)) # (N, LenSeq,192)\n",
    "        x_lstm = x_lstm.reshape(batch_size, 1, -1, self.hidden_fea*2) # (N, 1, LenSeq, 192)\n",
    "        out12 = self.fea_lstm_final(x_lstm) # (N, 6, 1, LenSeq)\n",
    "        out12 = out12.permute(0,1,3,2)\n",
    "        \n",
    "        # seq1 output\n",
    "        out1 = out11+out12\n",
    "        out1_sigmoid = torch.sigmoid(out1)\n",
    "        \n",
    "        # concat cnn out, seq1 out\n",
    "        x = torch.cat([x, out1_sigmoid], dim=1)\n",
    "        \n",
    "        # stem_fc\n",
    "        x = self.conv_first(x)\n",
    "        x = self.conv_res(x)\n",
    "        \n",
    "        # fc\n",
    "        out21 = self.conv_final(x)\n",
    "        \n",
    "        # lstm\n",
    "        x, _ = self.lstm(x.view(batch_size, -1, 64))\n",
    "        x = x.reshape(batch_size, 1, -1, self.hidden*2)\n",
    "        out22 = self.final(x)\n",
    "        out22 = out22.permute(0,1,3,2)\n",
    "        \n",
    "        # seq2 output\n",
    "        out2 = out21 + out22\n",
    "        \n",
    "        return out1, out2\n",
    "    \n",
    "model = SequenceModel(ch_in=1024)\n",
    "f = np.zeros([10,1024,1,35])\n",
    "x = np.zeros([10, 6, 1, 35])\n",
    "\n",
    "feature = torch.from_numpy(f).float()\n",
    "inputs = torch.from_numpy(x).float()\n",
    "\n",
    "o1, o2 = model(feature, inputs)\n",
    "o1.shape, o2.shape"
   ]
  },
  {
   "cell_type": "code",
   "execution_count": 206,
   "metadata": {},
   "outputs": [],
   "source": [
    "rnn = nn.GRU(1024, 6, num_layers=2, bidirectional=True)\n",
    "input = torch.randn(100, 35, 1024) # Batch size, sequence length, feature size\n",
    "\n",
    "output, hn = rnn(input) # batch size, sequence length, output feature size"
   ]
  },
  {
   "cell_type": "code",
   "execution_count": 207,
   "metadata": {},
   "outputs": [
    {
     "data": {
      "text/plain": [
       "torch.Size([100, 35, 12])"
      ]
     },
     "execution_count": 207,
     "metadata": {},
     "output_type": "execute_result"
    }
   ],
   "source": [
    "output.shape"
   ]
  },
  {
   "cell_type": "code",
   "execution_count": null,
   "metadata": {},
   "outputs": [],
   "source": []
  }
 ],
 "metadata": {
  "kernelspec": {
   "display_name": "Environment (conda_pytorch_latest_p36)",
   "language": "python",
   "name": "conda_pytorch_latest_p36"
  },
  "language_info": {
   "codemirror_mode": {
    "name": "ipython",
    "version": 3
   },
   "file_extension": ".py",
   "mimetype": "text/x-python",
   "name": "python",
   "nbconvert_exporter": "python",
   "pygments_lexer": "ipython3",
   "version": "3.6.10"
  }
 },
 "nbformat": 4,
 "nbformat_minor": 4
}
