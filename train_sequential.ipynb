{
 "cells": [
  {
   "cell_type": "code",
   "execution_count": 2,
   "metadata": {},
   "outputs": [],
   "source": [
    "import pandas as pd\n",
    "import numpy as np\n",
    "import os\n",
    "from tqdm import tqdm\n",
    "from datetime import datetime\n",
    "\n",
    "import torch\n",
    "import torch.nn as nn\n",
    "import torch.optim as optim\n",
    "from torch.utils.data import Dataset\n",
    "from torch.utils.tensorboard import SummaryWriter\n",
    "from torch.nn.utils.rnn import pad_sequence\n",
    "\n",
    "from utils.mails import send_mail\n",
    "from utils.checkpoints import save_checkpoint, load_checkpoint\n",
    "\n"
   ]
  },
  {
   "cell_type": "markdown",
   "metadata": {},
   "source": [
    "# Hyper Parameter 세팅"
   ]
  },
  {
   "cell_type": "code",
   "execution_count": 3,
   "metadata": {},
   "outputs": [],
   "source": [
    "# dataset path\n",
    "DATA_DF_PATH = './dataset/'\n",
    "DATA_IMG_PATH = '../dataset/kaggle_rsna(only100)/'\n",
    "\n",
    "# hyper parameter\n",
    "MODEL_NAME = 'SequentialGRU'\n",
    "LOSS_NAME = 'BCE'\n",
    "EPOCHS = 100\n",
    "BATCH_SIZE = 4\n",
    "INITIAL_LR = 0.001\n",
    "\n",
    "# etc path\n",
    "MODEL_WEIGHTS_SAVE_PATH = './checkpoints/rnn'\n",
    "MODEL_WEIGHTS_LOAD_PATH = './checkpoints/rnn'\n",
    "TENSORBOARD_PATH = './tensorboard/rnn'\n",
    "\n",
    "# gpu settings\n",
    "IS_GPU_PARALLEL = True if torch.cuda.device_count()>1 else False\n",
    "\n",
    "# train id\n",
    "timestamp = datetime.now().strftime('%y%m%d_%H%M%S')\n",
    "TRAIN_ID = f'{timestamp}_{MODEL_NAME}_LR{INITIAL_LR}_BS{BATCH_SIZE}_{LOSS_NAME}Loss'"
   ]
  },
  {
   "cell_type": "markdown",
   "metadata": {},
   "source": [
    "# 데이터셋 구성"
   ]
  },
  {
   "cell_type": "code",
   "execution_count": 4,
   "metadata": {},
   "outputs": [],
   "source": [
    "class SequentialHmData(Dataset):\n",
    "    def __init__(self, feature_path, df_path):\n",
    "        self.feature_df = pd.read_csv(feature_path)\n",
    "        self.ref_df = pd.read_csv(df_path)\n",
    "        self.person_ids = self.ref_df.study_instance_uid.unique()\n",
    "        \n",
    "    def __getitem__(self, index):\n",
    "        # get patient id\n",
    "        current_person_id = self.person_ids[index]\n",
    "        \n",
    "        # get filenames corresponding with patient id\n",
    "        filenames = self.ref_df[self.ref_df.study_instance_uid==current_person_id].filename\n",
    "        df_current_person = self.feature_df[self.feature_df.filename.isin(filenames)]\n",
    "        \n",
    "        # get predicted label and features from cnn outputs\n",
    "        pred_label = df_current_person.iloc[:,1:7].values\n",
    "        pred_features = df_current_person.iloc[:,7:].values\n",
    "        \n",
    "        # get get label\n",
    "        gt_label = self.ref_df[self.ref_df.study_instance_uid==current_person_id].loc[:,'epidural':'any'].values\n",
    "        \n",
    "        \n",
    "        return torch.from_numpy(pred_label), torch.from_numpy(pred_features), torch.from_numpy(gt_label)\n",
    "    \n",
    "    def __len__(self):\n",
    "        return len(self.ref_df.study_instance_uid.unique())"
   ]
  },
  {
   "cell_type": "code",
   "execution_count": 5,
   "metadata": {},
   "outputs": [],
   "source": [
    "train_dataset = SequentialHmData(feature_path='./dataset/train_features.csv', df_path='./dataset/train.csv')\n",
    "valid_dataset = SequentialHmData(feature_path='./dataset/valid_features.csv', df_path='./dataset/valid.csv')\n",
    "test_dataset = SequentialHmData(feature_path='./dataset/test_features.csv', df_path='./dataset/test.csv')"
   ]
  },
  {
   "cell_type": "code",
   "execution_count": 6,
   "metadata": {},
   "outputs": [],
   "source": [
    "from torch.utils.data import DataLoader\n",
    "\n",
    "def make_pad_sequence(datas):\n",
    "    \n",
    "    pred_labels = [data[0] for data in datas]\n",
    "    pred_features = [data[1] for data in datas]\n",
    "    gt_labels = [data[2] for data in datas]\n",
    "    \n",
    "    # pad all sequence \n",
    "    pred_labels = pad_sequence(pred_labels, batch_first=True)\n",
    "    pred_features = pad_sequence(pred_features, batch_first=True)\n",
    "    gt_labels = pad_sequence(gt_labels, batch_first=True)\n",
    "\n",
    "    # shape: (N, SL, F) -> (N, SL, 1, F) -> (N, F, 1, SL) \n",
    "    pred_labels = pred_labels.unsqueeze(dim=2).permute(0,3,2,1)\n",
    "    pred_features = pred_features.unsqueeze(dim=2).permute(0,3,2,1)\n",
    "    gt_labels = gt_labels.unsqueeze(dim=2).permute(0,3,2,1)\n",
    "        \n",
    "    return pred_labels, pred_features, gt_labels\n",
    "\n",
    "train_loader = DataLoader(train_dataset, batch_size=BATCH_SIZE, shuffle=True, collate_fn=make_pad_sequence)\n",
    "valid_loader = DataLoader(valid_dataset, batch_size=BATCH_SIZE, shuffle=False, collate_fn=make_pad_sequence)\n",
    "test_loader  = DataLoader(test_dataset, batch_size=BATCH_SIZE, shuffle=False, collate_fn=make_pad_sequence)"
   ]
  },
  {
   "cell_type": "code",
   "execution_count": 7,
   "metadata": {},
   "outputs": [
    {
     "name": "stdout",
     "output_type": "stream",
     "text": [
      "torch.Size([4, 6, 1, 43]) torch.Size([4, 1024, 1, 43]) torch.Size([4, 6, 1, 43])\n"
     ]
    }
   ],
   "source": [
    "for data in train_loader:\n",
    "    print(data[0].shape, data[1].shape, data[2].shape)\n",
    "    break"
   ]
  },
  {
   "cell_type": "markdown",
   "metadata": {},
   "source": [
    "# 모델 생성"
   ]
  },
  {
   "cell_type": "code",
   "execution_count": 19,
   "metadata": {},
   "outputs": [],
   "source": [
    "class SequenceModel(nn.Module):\n",
    "    def __init__(self, ch_in=1024):\n",
    "        super(SequenceModel, self).__init__()\n",
    "        drop_out = 0.5\n",
    "        hidden = 96\n",
    "        lstm_layers = 2\n",
    "        feature_num=1\n",
    "        ratio = 1\n",
    "        self.ratio=ratio\n",
    "        \n",
    "        # seq model 1\n",
    "        self.fea_conv = nn.Sequential(nn.Dropout2d(drop_out),\n",
    "                                      nn.Conv2d(ch_in, 512, kernel_size=(1, 1), stride=(1,1),padding=(0,0), bias=False),\n",
    "                                      nn.BatchNorm2d(512),\n",
    "                                      nn.ReLU(),\n",
    "                                      nn.Dropout2d(drop_out),\n",
    "                                      nn.Conv2d(512, 128, kernel_size=(1, 1), stride=(1, 1), padding=(0, 0), bias=False),\n",
    "                                      nn.BatchNorm2d(128),\n",
    "                                      nn.ReLU(),\n",
    "                                      nn.Dropout2d(drop_out),\n",
    "                                      )\n",
    "\n",
    "        self.fea_first_final = nn.Sequential(nn.Conv2d(128*feature_num, 6, kernel_size=(1, 1), stride=(1, 1), padding=(0, 0), bias=True))\n",
    "\n",
    "        # # bidirectional GRU\n",
    "        self.hidden_fea = hidden\n",
    "        self.fea_lstm = nn.GRU(128*feature_num, self.hidden_fea, num_layers=lstm_layers, batch_first=True, bidirectional=True)\n",
    "        self.fea_lstm_final = nn.Sequential(nn.Conv2d(1, 6, kernel_size=(1, self.hidden_fea*2), stride=(1, 1), padding=(0, 0), dilation=1, bias=True))\n",
    "        \n",
    "        \n",
    "        # seq model 2\n",
    "        self.conv_first = nn.Sequential(nn.Conv2d(12, 128*ratio, kernel_size=(5, 1), stride=(1,1),padding=(2,0),dilation=1, bias=False),\n",
    "                                        nn.BatchNorm2d(128*ratio),\n",
    "                                        nn.ReLU(),\n",
    "                                        nn.Conv2d(128*ratio, 64*ratio, kernel_size=(3, 1), stride=(1, 1), padding=(2, 0),dilation=2, bias=False),\n",
    "                                        nn.BatchNorm2d(64*ratio),\n",
    "                                        nn.ReLU())\n",
    "\n",
    "        self.conv_res = nn.Sequential(nn.Conv2d(64 * ratio, 64 * ratio, kernel_size=(3, 1), stride=(1, 1),padding=(4, 0),dilation=4, bias=False),\n",
    "                                      nn.BatchNorm2d(64 * ratio),\n",
    "                                      nn.ReLU(),\n",
    "                                      nn.Conv2d(64 * ratio, 64 * ratio, kernel_size=(3, 1), stride=(1, 1),padding=(2, 0),dilation=2, bias=False),\n",
    "                                      nn.BatchNorm2d(64 * ratio),\n",
    "                                      nn.ReLU())\n",
    "\n",
    "        self.conv_final = nn.Sequential(nn.Conv2d(64*ratio, 1, kernel_size=(3, 1), stride=(1, 1), padding=(1, 0), dilation=1,bias=False))\n",
    "\n",
    "        # bidirectional GRU\n",
    "        self.hidden = hidden\n",
    "        self.lstm = nn.GRU(64*ratio, self.hidden, num_layers=lstm_layers, batch_first=True, bidirectional=True)\n",
    "        self.final = nn.Sequential(nn.Conv2d(1, 6, kernel_size=(1, self.hidden*2), stride=(1, 1), padding=(0, 0), dilation=1, bias=True))\n",
    "\n",
    "\n",
    "    def forward(self, features, x):\n",
    "        \n",
    "        batch_size, _, _, _ = features.shape\n",
    "        \n",
    "        # stem_fc\n",
    "        x_fc = self.fea_conv(features) # (N, LenFeat, 1, LenSeq)\n",
    "        \n",
    "        # fc\n",
    "        out11 = self.fea_first_final(x_fc) # (N, 6, 1, LenSeq)\n",
    "\n",
    "        # lstm\n",
    "        x_lstm, _ = self.fea_lstm(x_fc.view(batch_size, -1, 128)) # (N, LenSeq,192)\n",
    "        x_lstm = x_lstm.reshape(batch_size, 1, -1, self.hidden_fea*2) # (N, 1, LenSeq, 192)\n",
    "        out12 = self.fea_lstm_final(x_lstm) # (N, 6, 1, LenSeq)\n",
    "        out12 = out12.permute(0,1,3,2)\n",
    "        \n",
    "        # seq1 output\n",
    "        out1 = out11+out12\n",
    "        out1_sigmoid = torch.sigmoid(out1)\n",
    "        \n",
    "        # concat cnn out, seq1 out\n",
    "        x = torch.cat([x, out1_sigmoid], dim=1)\n",
    "        \n",
    "        # stem_fc\n",
    "        x = self.conv_first(x)\n",
    "        x = self.conv_res(x)\n",
    "        \n",
    "        # fc\n",
    "        out21 = self.conv_final(x)\n",
    "        \n",
    "        # lstm\n",
    "        x, _ = self.lstm(x.view(batch_size, -1, 64))\n",
    "        x = x.reshape(batch_size, 1, -1, self.hidden*2)\n",
    "        out22 = self.final(x)\n",
    "        out22 = out22.permute(0,1,3,2)\n",
    "        \n",
    "        # seq2 output\n",
    "        out2 = out21 + out22\n",
    "        out2_sigmoid = torch.sigmoid(out2)\n",
    "        \n",
    "        return out1_sigmoid, out2_sigmoid\n"
   ]
  },
  {
   "cell_type": "markdown",
   "metadata": {},
   "source": [
    "# 학습"
   ]
  },
  {
   "cell_type": "code",
   "execution_count": 20,
   "metadata": {},
   "outputs": [],
   "source": [
    "model = SequenceModel(ch_in=1024)\n",
    "\n",
    "device = 'cuda' if torch.cuda.is_available() else 'cpu'\n",
    "\n",
    "model.to(device)\n",
    "\n",
    "criterion = nn.BCELoss()\n",
    "optimizer = optim.SGD(model.parameters(), lr=INITIAL_LR, momentum=0.9)"
   ]
  },
  {
   "cell_type": "code",
   "execution_count": 21,
   "metadata": {},
   "outputs": [],
   "source": [
    "def fit(phase, epoch, model, data_loader, optimizer, criterion, device):\n",
    "    \n",
    "    losses = 0\n",
    "    if phase=='Train':\n",
    "        model.train()\n",
    "    elif phase=='Valid' or phase=='Test':\n",
    "        model.eval()\n",
    "    \n",
    "    tbar = tqdm(data_loader, position=0, leave=True)\n",
    "    for i, (pred_label, pred_feature, gt_label) in enumerate(tbar):\n",
    "        \n",
    "        pred_label, pred_feature, gt_label = pred_label.to(device), pred_feature.to(device), gt_label.to(device)\n",
    "        \n",
    "        optimizer.zero_grad()\n",
    "        \n",
    "        logit1, logit2 = model(pred_feature.float(), pred_label.float())\n",
    "        \n",
    "        loss1 = criterion(logit1, gt_label.float())\n",
    "        loss2 = criterion(logit2, gt_label.float())\n",
    "        \n",
    "        loss = loss1 + loss2\n",
    "        \n",
    "        if phase=='Train':\n",
    "            loss.backward()\n",
    "            optimizer.step()\n",
    "        \n",
    "#         predicted_label_thresholded = predicted_label>0.5\n",
    "#         acc = (predicted_label_thresholded==target).sum() # \n",
    "\n",
    "        losses += loss.item()\n",
    "        \n",
    "        tbar.set_description(f'[{phase}]\\tEpoch:[{epoch}/{EPOCHS}]\\tLoss:{losses/(i+1):.5f}')# '\\tAcc:{acc:.2%}')\n",
    "        \n",
    "    return losses/len(data_loader)\n",
    "        "
   ]
  },
  {
   "cell_type": "code",
   "execution_count": 22,
   "metadata": {
    "collapsed": true,
    "jupyter": {
     "outputs_hidden": true
    }
   },
   "outputs": [
    {
     "name": "stderr",
     "output_type": "stream",
     "text": [
      "[Train]\tEpoch:[1/100]\tLoss:nan: 100%|██████████| 20/20 [00:01<00:00, 14.55it/s]\n",
      "[Valid]\tEpoch:[1/100]\tLoss:nan: 100%|██████████| 3/3 [00:00<00:00, 35.44it/s]\n",
      "[Train]\tEpoch:[2/100]\tLoss:nan:  70%|███████   | 14/20 [00:00<00:00, 14.26it/s]"
     ]
    },
    {
     "ename": "KeyboardInterrupt",
     "evalue": "",
     "output_type": "error",
     "traceback": [
      "\u001b[0;31m---------------------------------------------------------------------------\u001b[0m",
      "\u001b[0;31mKeyboardInterrupt\u001b[0m                         Traceback (most recent call last)",
      "\u001b[0;32m<ipython-input-22-da18af1ccd0a>\u001b[0m in \u001b[0;36m<module>\u001b[0;34m\u001b[0m\n\u001b[1;32m      7\u001b[0m \u001b[0;34m\u001b[0m\u001b[0m\n\u001b[1;32m      8\u001b[0m     \u001b[0;31m# fit\u001b[0m\u001b[0;34m\u001b[0m\u001b[0;34m\u001b[0m\u001b[0;34m\u001b[0m\u001b[0m\n\u001b[0;32m----> 9\u001b[0;31m     \u001b[0mtrain_loss\u001b[0m \u001b[0;34m=\u001b[0m \u001b[0mfit\u001b[0m\u001b[0;34m(\u001b[0m\u001b[0;34m'Train'\u001b[0m\u001b[0;34m,\u001b[0m \u001b[0mepoch\u001b[0m\u001b[0;34m,\u001b[0m \u001b[0mmodel\u001b[0m\u001b[0;34m,\u001b[0m \u001b[0mtrain_loader\u001b[0m\u001b[0;34m,\u001b[0m \u001b[0moptimizer\u001b[0m\u001b[0;34m,\u001b[0m \u001b[0mcriterion\u001b[0m\u001b[0;34m,\u001b[0m \u001b[0mdevice\u001b[0m\u001b[0;34m)\u001b[0m\u001b[0;34m\u001b[0m\u001b[0;34m\u001b[0m\u001b[0m\n\u001b[0m\u001b[1;32m     10\u001b[0m     \u001b[0;32mwith\u001b[0m \u001b[0mtorch\u001b[0m\u001b[0;34m.\u001b[0m\u001b[0mno_grad\u001b[0m\u001b[0;34m(\u001b[0m\u001b[0;34m)\u001b[0m\u001b[0;34m:\u001b[0m\u001b[0;34m\u001b[0m\u001b[0;34m\u001b[0m\u001b[0m\n\u001b[1;32m     11\u001b[0m         \u001b[0mvalid_loss\u001b[0m \u001b[0;34m=\u001b[0m \u001b[0mfit\u001b[0m\u001b[0;34m(\u001b[0m\u001b[0;34m'Valid'\u001b[0m\u001b[0;34m,\u001b[0m \u001b[0mepoch\u001b[0m\u001b[0;34m,\u001b[0m \u001b[0mmodel\u001b[0m\u001b[0;34m,\u001b[0m \u001b[0mvalid_loader\u001b[0m\u001b[0;34m,\u001b[0m \u001b[0moptimizer\u001b[0m\u001b[0;34m,\u001b[0m \u001b[0mcriterion\u001b[0m\u001b[0;34m,\u001b[0m \u001b[0mdevice\u001b[0m\u001b[0;34m)\u001b[0m\u001b[0;34m\u001b[0m\u001b[0;34m\u001b[0m\u001b[0m\n",
      "\u001b[0;32m<ipython-input-21-93a06c7f0f5d>\u001b[0m in \u001b[0;36mfit\u001b[0;34m(phase, epoch, model, data_loader, optimizer, criterion, device)\u001b[0m\n\u001b[1;32m     23\u001b[0m         \u001b[0;32mif\u001b[0m \u001b[0mphase\u001b[0m\u001b[0;34m==\u001b[0m\u001b[0;34m'Train'\u001b[0m\u001b[0;34m:\u001b[0m\u001b[0;34m\u001b[0m\u001b[0;34m\u001b[0m\u001b[0m\n\u001b[1;32m     24\u001b[0m             \u001b[0mloss\u001b[0m\u001b[0;34m.\u001b[0m\u001b[0mbackward\u001b[0m\u001b[0;34m(\u001b[0m\u001b[0;34m)\u001b[0m\u001b[0;34m\u001b[0m\u001b[0;34m\u001b[0m\u001b[0m\n\u001b[0;32m---> 25\u001b[0;31m             \u001b[0moptimizer\u001b[0m\u001b[0;34m.\u001b[0m\u001b[0mstep\u001b[0m\u001b[0;34m(\u001b[0m\u001b[0;34m)\u001b[0m\u001b[0;34m\u001b[0m\u001b[0;34m\u001b[0m\u001b[0m\n\u001b[0m\u001b[1;32m     26\u001b[0m \u001b[0;34m\u001b[0m\u001b[0m\n\u001b[1;32m     27\u001b[0m \u001b[0;31m#         predicted_label_thresholded = predicted_label>0.5\u001b[0m\u001b[0;34m\u001b[0m\u001b[0;34m\u001b[0m\u001b[0;34m\u001b[0m\u001b[0m\n",
      "\u001b[0;32m~/anaconda3/envs/pytorch_latest_p36/lib/python3.6/site-packages/torch/autograd/grad_mode.py\u001b[0m in \u001b[0;36mdecorate_context\u001b[0;34m(*args, **kwargs)\u001b[0m\n\u001b[1;32m     13\u001b[0m         \u001b[0;32mdef\u001b[0m \u001b[0mdecorate_context\u001b[0m\u001b[0;34m(\u001b[0m\u001b[0;34m*\u001b[0m\u001b[0margs\u001b[0m\u001b[0;34m,\u001b[0m \u001b[0;34m**\u001b[0m\u001b[0mkwargs\u001b[0m\u001b[0;34m)\u001b[0m\u001b[0;34m:\u001b[0m\u001b[0;34m\u001b[0m\u001b[0;34m\u001b[0m\u001b[0m\n\u001b[1;32m     14\u001b[0m             \u001b[0;32mwith\u001b[0m \u001b[0mself\u001b[0m\u001b[0;34m:\u001b[0m\u001b[0;34m\u001b[0m\u001b[0;34m\u001b[0m\u001b[0m\n\u001b[0;32m---> 15\u001b[0;31m                 \u001b[0;32mreturn\u001b[0m \u001b[0mfunc\u001b[0m\u001b[0;34m(\u001b[0m\u001b[0;34m*\u001b[0m\u001b[0margs\u001b[0m\u001b[0;34m,\u001b[0m \u001b[0;34m**\u001b[0m\u001b[0mkwargs\u001b[0m\u001b[0;34m)\u001b[0m\u001b[0;34m\u001b[0m\u001b[0;34m\u001b[0m\u001b[0m\n\u001b[0m\u001b[1;32m     16\u001b[0m         \u001b[0;32mreturn\u001b[0m \u001b[0mdecorate_context\u001b[0m\u001b[0;34m\u001b[0m\u001b[0;34m\u001b[0m\u001b[0m\n\u001b[1;32m     17\u001b[0m \u001b[0;34m\u001b[0m\u001b[0m\n",
      "\u001b[0;32m~/anaconda3/envs/pytorch_latest_p36/lib/python3.6/site-packages/torch/optim/sgd.py\u001b[0m in \u001b[0;36mstep\u001b[0;34m(self, closure)\u001b[0m\n\u001b[1;32m    110\u001b[0m                         \u001b[0md_p\u001b[0m \u001b[0;34m=\u001b[0m \u001b[0mbuf\u001b[0m\u001b[0;34m\u001b[0m\u001b[0;34m\u001b[0m\u001b[0m\n\u001b[1;32m    111\u001b[0m \u001b[0;34m\u001b[0m\u001b[0m\n\u001b[0;32m--> 112\u001b[0;31m                 \u001b[0mp\u001b[0m\u001b[0;34m.\u001b[0m\u001b[0madd_\u001b[0m\u001b[0;34m(\u001b[0m\u001b[0md_p\u001b[0m\u001b[0;34m,\u001b[0m \u001b[0malpha\u001b[0m\u001b[0;34m=\u001b[0m\u001b[0;34m-\u001b[0m\u001b[0mgroup\u001b[0m\u001b[0;34m[\u001b[0m\u001b[0;34m'lr'\u001b[0m\u001b[0;34m]\u001b[0m\u001b[0;34m)\u001b[0m\u001b[0;34m\u001b[0m\u001b[0;34m\u001b[0m\u001b[0m\n\u001b[0m\u001b[1;32m    113\u001b[0m \u001b[0;34m\u001b[0m\u001b[0m\n\u001b[1;32m    114\u001b[0m         \u001b[0;32mreturn\u001b[0m \u001b[0mloss\u001b[0m\u001b[0;34m\u001b[0m\u001b[0;34m\u001b[0m\u001b[0m\n",
      "\u001b[0;31mKeyboardInterrupt\u001b[0m: "
     ]
    },
    {
     "name": "stderr",
     "output_type": "stream",
     "text": [
      "[Train]\tEpoch:[2/100]\tLoss:nan:  70%|███████   | 14/20 [00:20<00:00, 14.26it/s]"
     ]
    }
   ],
   "source": [
    "# tensorboard log\n",
    "writer = SummaryWriter(log_dir=os.path.join(TENSORBOARD_PATH, TRAIN_ID))\n",
    "train_losses = []\n",
    "valid_losses = []\n",
    "\n",
    "for epoch in range(1, EPOCHS+1):\n",
    "        \n",
    "    # fit\n",
    "    train_loss = fit('Train', epoch, model, train_loader, optimizer, criterion, device)\n",
    "    with torch.no_grad():\n",
    "        valid_loss = fit('Valid', epoch, model, valid_loader, optimizer, criterion, device)\n",
    "        \n",
    "    # log\n",
    "    train_losses.append(train_loss)\n",
    "    valid_losses.append(valid_loss)\n",
    "    \n",
    "    # tensor board\n",
    "    writer.add_scalar('Loss/Train/', train_loss, epoch)\n",
    "    writer.add_scalar('Loss/Valid/', valid_loss, epoch)\n",
    "\n",
    "    # save model\n",
    "    save_checkpoint(epoch, model, optimizer)\n",
    "    \n",
    "#     if epoch%10==0:\n",
    "#         send_mail(f'[Epoch:{epoch}]학습 진행중', '')\n",
    "    \n",
    "# send_mail(f'[알림]학습완료','EC2 종료할 것!!')\n",
    "\n",
    "\n"
   ]
  },
  {
   "cell_type": "code",
   "execution_count": 12,
   "metadata": {},
   "outputs": [],
   "source": [
    "def save_checkpoint(epoch, model, optimizer, scheduler=None):\n",
    "    save_folder_dir = os.path.join(MODEL_WEIGHTS_SAVE_PATH, TRAIN_ID)\n",
    "    if not os.path.exists(save_folder_dir):\n",
    "        os.makedirs(save_folder_dir, exist_ok=True)\n",
    "    model_save_path = os.path.join(save_folder_dir, f'{epoch:03d}.pth')\n",
    "\n",
    "    if IS_GPU_PARALLEL:\n",
    "        model_state_dict = model.module.state_dict()\n",
    "    else:\n",
    "        model_state_dict = model.state_dict()\n",
    "\n",
    "    if scheduler is not None:\n",
    "        scheduler = scheduler.state_dict()\n",
    "\n",
    "    torch.save({\n",
    "        'epoch': epoch,\n",
    "        'model_state_dict': model_state_dict,\n",
    "        'optimizer': optimizer.state_dict(),\n",
    "        'scheduler': scheduler\n",
    "    }, model_save_path)"
   ]
  },
  {
   "cell_type": "code",
   "execution_count": null,
   "metadata": {},
   "outputs": [],
   "source": []
  }
 ],
 "metadata": {
  "kernelspec": {
   "display_name": "Environment (conda_pytorch_latest_p36)",
   "language": "python",
   "name": "conda_pytorch_latest_p36"
  },
  "language_info": {
   "codemirror_mode": {
    "name": "ipython",
    "version": 3
   },
   "file_extension": ".py",
   "mimetype": "text/x-python",
   "name": "python",
   "nbconvert_exporter": "python",
   "pygments_lexer": "ipython3",
   "version": "3.6.10"
  }
 },
 "nbformat": 4,
 "nbformat_minor": 4
}
