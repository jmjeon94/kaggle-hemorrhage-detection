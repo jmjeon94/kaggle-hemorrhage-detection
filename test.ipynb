{
 "cells": [
  {
   "cell_type": "code",
   "execution_count": 5,
   "metadata": {},
   "outputs": [],
   "source": [
    "from utils.checkpoints import load_checkpoint\n",
    "from constants import *\n",
    "from models.densenet121 import DenseNet121_change_avg\n",
    "from dataloader.dataloader import HmDataset\n",
    "from dataloader.transforms import transforms\n",
    "from main.fit import fit\n",
    "\n",
    "from torch.utils.data import DataLoader\n",
    "import torch.optim as optim\n",
    "import torch.nn as nn\n",
    "\n",
    "from tqdm import tqdm"
   ]
  },
  {
   "cell_type": "code",
   "execution_count": 26,
   "metadata": {},
   "outputs": [
    {
     "name": "stderr",
     "output_type": "stream",
     "text": [
      " 18%|█▊        | 61/333 [00:02<00:10, 25.34it/s]"
     ]
    },
    {
     "name": "stdout",
     "output_type": "stream",
     "text": [
      "tensor([[0., 0., 0., 0., 0., 0.]], device='cuda:0') tensor([[0., 0., 0., 1., 0., 1.]], device='cuda:0', dtype=torch.float64)\n",
      "tensor([[ True,  True,  True, False,  True, False]], device='cuda:0')\n",
      "tensor([[0., 0., 0., 0., 0., 0.]], device='cuda:0') tensor([[0., 0., 0., 1., 0., 1.]], device='cuda:0', dtype=torch.float64)\n",
      "tensor([[ True,  True,  True, False,  True, False]], device='cuda:0')\n",
      "tensor([[0., 0., 0., 0., 0., 0.]], device='cuda:0') tensor([[0., 0., 0., 1., 0., 1.]], device='cuda:0', dtype=torch.float64)\n",
      "tensor([[ True,  True,  True, False,  True, False]], device='cuda:0')\n",
      "tensor([[0., 0., 0., 0., 0., 0.]], device='cuda:0') tensor([[0., 0., 0., 1., 0., 1.]], device='cuda:0', dtype=torch.float64)\n",
      "tensor([[ True,  True,  True, False,  True, False]], device='cuda:0')\n",
      "tensor([[0., 0., 0., 0., 0., 0.]], device='cuda:0') tensor([[0., 0., 0., 1., 0., 1.]], device='cuda:0', dtype=torch.float64)\n",
      "tensor([[ True,  True,  True, False,  True, False]], device='cuda:0')\n",
      "tensor([[0., 0., 0., 0., 0., 0.]], device='cuda:0') tensor([[0., 0., 0., 1., 0., 1.]], device='cuda:0', dtype=torch.float64)\n",
      "tensor([[ True,  True,  True, False,  True, False]], device='cuda:0')\n"
     ]
    },
    {
     "name": "stderr",
     "output_type": "stream",
     "text": [
      " 20%|██        | 67/333 [00:02<00:10, 25.14it/s]"
     ]
    },
    {
     "name": "stdout",
     "output_type": "stream",
     "text": [
      "tensor([[0., 0., 0., 0., 0., 0.]], device='cuda:0') tensor([[0., 0., 0., 1., 0., 1.]], device='cuda:0', dtype=torch.float64)\n",
      "tensor([[ True,  True,  True, False,  True, False]], device='cuda:0')\n",
      "tensor([[0., 0., 0., 0., 0., 0.]], device='cuda:0') tensor([[0., 0., 0., 1., 0., 1.]], device='cuda:0', dtype=torch.float64)\n",
      "tensor([[ True,  True,  True, False,  True, False]], device='cuda:0')\n",
      "tensor([[0., 0., 0., 0., 0., 0.]], device='cuda:0') tensor([[0., 0., 0., 1., 0., 1.]], device='cuda:0', dtype=torch.float64)\n",
      "tensor([[ True,  True,  True, False,  True, False]], device='cuda:0')\n",
      "tensor([[0., 0., 0., 0., 0., 0.]], device='cuda:0') tensor([[0., 0., 0., 1., 0., 1.]], device='cuda:0', dtype=torch.float64)\n",
      "tensor([[ True,  True,  True, False,  True, False]], device='cuda:0')\n",
      "tensor([[0., 0., 0., 0., 0., 0.]], device='cuda:0') tensor([[0., 0., 0., 1., 0., 1.]], device='cuda:0', dtype=torch.float64)\n",
      "tensor([[ True,  True,  True, False,  True, False]], device='cuda:0')\n",
      "tensor([[0., 0., 0., 0., 0., 0.]], device='cuda:0') "
     ]
    },
    {
     "name": "stderr",
     "output_type": "stream",
     "text": [
      " 22%|██▏       | 73/333 [00:03<00:10, 25.67it/s]"
     ]
    },
    {
     "name": "stdout",
     "output_type": "stream",
     "text": [
      "tensor([[0., 0., 0., 1., 0., 1.]], device='cuda:0', dtype=torch.float64)\n",
      "tensor([[ True,  True,  True, False,  True, False]], device='cuda:0')\n",
      "tensor([[0., 0., 0., 0., 0., 0.]], device='cuda:0') tensor([[0., 0., 0., 1., 0., 1.]], device='cuda:0', dtype=torch.float64)\n",
      "tensor([[ True,  True,  True, False,  True, False]], device='cuda:0')\n"
     ]
    },
    {
     "name": "stderr",
     "output_type": "stream",
     "text": [
      " 29%|██▉       | 97/333 [00:03<00:09, 25.87it/s]"
     ]
    },
    {
     "name": "stdout",
     "output_type": "stream",
     "text": [
      "tensor([[0., 0., 0., 0., 0., 0.]], device='cuda:0') tensor([[0., 1., 0., 0., 0., 1.]], device='cuda:0', dtype=torch.float64)\n",
      "tensor([[ True, False,  True,  True,  True, False]], device='cuda:0')\n",
      "tensor([[0., 0., 0., 0., 0., 0.]], device='cuda:0') tensor([[0., 1., 0., 0., 0., 1.]], device='cuda:0', dtype=torch.float64)\n",
      "tensor([[ True, False,  True,  True,  True, False]], device='cuda:0')\n",
      "tensor([[0., 0., 0., 0., 0., 0.]], device='cuda:0') tensor([[0., 1., 0., 0., 0., 1.]], device='cuda:0', dtype=torch.float64)\n",
      "tensor([[ True, False,  True,  True,  True, False]], device='cuda:0')\n",
      "tensor([[0., 0., 0., 0., 0., 0.]], device='cuda:0') tensor([[0., 1., 0., 0., 0., 1.]], device='cuda:0', dtype=torch.float64)\n",
      "tensor([[ True, False,  True,  True,  True, False]], device='cuda:0')\n",
      "tensor([[0., 0., 0., 0., 0., 0.]], device='cuda:0') tensor([[0., 1., 0., 0., 0., 1.]], device='cuda:0', dtype=torch.float64)\n",
      "tensor([[ True, False,  True,  True,  True, False]], device='cuda:0')\n"
     ]
    },
    {
     "name": "stderr",
     "output_type": "stream",
     "text": [
      " 31%|███       | 103/333 [00:04<00:08, 26.18it/s]"
     ]
    },
    {
     "name": "stdout",
     "output_type": "stream",
     "text": [
      "tensor([[0., 0., 0., 0., 0., 0.]], device='cuda:0') tensor([[0., 1., 0., 0., 0., 1.]], device='cuda:0', dtype=torch.float64)\n",
      "tensor([[ True, False,  True,  True,  True, False]], device='cuda:0')\n"
     ]
    },
    {
     "name": "stderr",
     "output_type": "stream",
     "text": [
      " 50%|████▉     | 166/333 [00:06<00:06, 26.10it/s]"
     ]
    },
    {
     "name": "stdout",
     "output_type": "stream",
     "text": [
      "tensor([[0., 0., 0., 0., 0., 0.]], device='cuda:0') tensor([[0., 0., 1., 0., 0., 1.]], device='cuda:0', dtype=torch.float64)\n",
      "tensor([[ True,  True, False,  True,  True, False]], device='cuda:0')\n",
      "tensor([[0., 0., 0., 0., 0., 0.]], device='cuda:0') tensor([[0., 0., 1., 0., 0., 1.]], device='cuda:0', dtype=torch.float64)\n",
      "tensor([[ True,  True, False,  True,  True, False]], device='cuda:0')\n"
     ]
    },
    {
     "name": "stderr",
     "output_type": "stream",
     "text": [
      " 53%|█████▎    | 175/333 [00:06<00:06, 25.48it/s]"
     ]
    },
    {
     "name": "stdout",
     "output_type": "stream",
     "text": [
      "tensor([[0., 0., 0., 0., 0., 0.]], device='cuda:0') tensor([[0., 0., 0., 1., 0., 1.]], device='cuda:0', dtype=torch.float64)\n",
      "tensor([[ True,  True,  True, False,  True, False]], device='cuda:0')\n",
      "tensor([[0., 0., 0., 0., 0., 0.]], device='cuda:0') tensor([[0., 0., 0., 1., 0., 1.]], device='cuda:0', dtype=torch.float64)\n",
      "tensor([[ True,  True,  True, False,  True, False]], device='cuda:0')\n"
     ]
    },
    {
     "name": "stderr",
     "output_type": "stream",
     "text": [
      " 85%|████████▍ | 283/333 [00:11<00:02, 24.24it/s]"
     ]
    },
    {
     "name": "stdout",
     "output_type": "stream",
     "text": [
      "tensor([[0., 0., 0., 0., 0., 0.]], device='cuda:0') tensor([[0., 0., 0., 1., 0., 1.]], device='cuda:0', dtype=torch.float64)\n",
      "tensor([[ True,  True,  True, False,  True, False]], device='cuda:0')\n",
      "tensor([[0., 0., 0., 0., 0., 0.]], device='cuda:0') tensor([[0., 1., 0., 1., 0., 1.]], device='cuda:0', dtype=torch.float64)\n",
      "tensor([[ True, False,  True, False,  True, False]], device='cuda:0')\n",
      "tensor([[0., 0., 0., 0., 0., 0.]], device='cuda:0') tensor([[0., 1., 0., 1., 0., 1.]], device='cuda:0', dtype=torch.float64)\n",
      "tensor([[ True, False,  True, False,  True, False]], device='cuda:0')\n",
      "tensor([[0., 0., 0., 0., 0., 0.]], device='cuda:0') tensor([[0., 1., 0., 1., 0., 1.]], device='cuda:0', dtype=torch.float64)\n",
      "tensor([[ True, False,  True, False,  True, False]], device='cuda:0')\n",
      "tensor([[0., 0., 0., 0., 0., 0.]], device='cuda:0') tensor([[0., 1., 0., 1., 0., 1.]], device='cuda:0', dtype=torch.float64)\n",
      "tensor([[ True, False,  True, False,  True, False]], device='cuda:0')\n"
     ]
    },
    {
     "name": "stderr",
     "output_type": "stream",
     "text": [
      " 86%|████████▌ | 286/333 [00:11<00:02, 23.43it/s]"
     ]
    },
    {
     "name": "stdout",
     "output_type": "stream",
     "text": [
      "tensor([[0., 0., 0., 0., 0., 0.]], device='cuda:0') tensor([[0., 1., 0., 0., 0., 1.]], device='cuda:0', dtype=torch.float64)\n",
      "tensor([[ True, False,  True,  True,  True, False]], device='cuda:0')\n",
      "tensor([[0., 0., 0., 0., 0., 0.]], device='cuda:0') tensor([[0., 1., 0., 0., 0., 1.]], device='cuda:0', dtype=torch.float64)\n",
      "tensor([[ True, False,  True,  True,  True, False]], device='cuda:0')\n",
      "tensor([[0., 0., 0., 0., 0., 0.]], device='cuda:0') tensor([[0., 1., 0., 0., 0., 1.]], device='cuda:0', dtype=torch.float64)\n",
      "tensor([[ True, False,  True,  True,  True, False]], device='cuda:0')\n",
      "tensor([[0., 0., 0., 0., 0., 0.]], device='cuda:0') tensor([[0., 1., 0., 0., 0., 1.]], device='cuda:0', dtype=torch.float64)\n",
      "tensor([[ True, False,  True,  True,  True, False]], device='cuda:0')\n"
     ]
    },
    {
     "name": "stderr",
     "output_type": "stream",
     "text": [
      "100%|██████████| 333/333 [00:13<00:00, 25.41it/s]\n"
     ]
    }
   ],
   "source": [
    "# get test data loader\n",
    "test_dataset = HmDataset(df_path='./dataset/test.csv', transforms=transforms, mode=DATASET_MODE)\n",
    "test_loader = DataLoader(test_dataset,\n",
    "                         batch_size=1,#BATCH_SIZE,\n",
    "                         shuffle=False,\n",
    "                         drop_last=False,\n",
    "                         num_workers=4)\n",
    "\n",
    "# create model\n",
    "model = DenseNet121_change_avg()\n",
    "criterion = nn.BCELoss()\n",
    "optimizer = optim.SGD(model.parameters(), lr=INITIAL_LR, momentum=0.9)\n",
    "\n",
    "model =  DenseNet121_change_avg()\n",
    "model, optimizer, _, epoch = load_checkpoint('./checkpoints/200601_223249_DenseNet121_LR0.001_BS64_BCELoss/  8.pth', model, optimizer)\n",
    "\n",
    "device = 'cuda' if torch.cuda.is_available() else 'cpu'\n",
    "model.to(device)\n",
    "\n",
    "# test 평가\n",
    "with torch.no_grad():\n",
    "#     test_loss = fit('Test', epoch, model, test_loader, optimizer, criterion, device)\n",
    "    \n",
    "    for i, (filename, targets, inputs) in enumerate(tqdm(test_loader)):\n",
    "        inputs, targets = inputs.to(device), targets.to(device)\n",
    "        \n",
    "        preds, _ = model(inputs)\n",
    "        \n",
    "        preds = preds.round()\n",
    "\n",
    "        if not targets.sum()==0:\n",
    "            print(preds, targets)\n",
    "            print(preds==targets)\n",
    "\n"
   ]
  },
  {
   "cell_type": "code",
   "execution_count": 22,
   "metadata": {},
   "outputs": [
    {
     "data": {
      "text/plain": [
       "tensor([1.], dtype=torch.float64)"
      ]
     },
     "execution_count": 22,
     "metadata": {},
     "output_type": "execute_result"
    }
   ],
   "source": [
    "import numpy as np\n",
    "a = torch.from_numpy(np.array([0.7]))\n",
    "\n",
    "a.round()"
   ]
  },
  {
   "cell_type": "code",
   "execution_count": null,
   "metadata": {},
   "outputs": [],
   "source": []
  }
 ],
 "metadata": {
  "kernelspec": {
   "display_name": "Environment (conda_pytorch_latest_p36)",
   "language": "python",
   "name": "conda_pytorch_latest_p36"
  },
  "language_info": {
   "codemirror_mode": {
    "name": "ipython",
    "version": 3
   },
   "file_extension": ".py",
   "mimetype": "text/x-python",
   "name": "python",
   "nbconvert_exporter": "python",
   "pygments_lexer": "ipython3",
   "version": "3.6.10"
  }
 },
 "nbformat": 4,
 "nbformat_minor": 4
}
