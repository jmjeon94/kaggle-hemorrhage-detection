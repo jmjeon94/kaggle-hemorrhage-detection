{
 "cells": [
  {
   "cell_type": "markdown",
   "metadata": {},
   "source": [
    "# stage_1_train 데이터 프레임 생성\n",
    "* 각 slice의 label값과 dicom파일의 meta정보를 이용하여 Dataframe 생성"
   ]
  },
  {
   "cell_type": "markdown",
   "metadata": {},
   "source": [
    "### 데이터 읽기"
   ]
  },
  {
   "cell_type": "code",
   "execution_count": 2,
   "metadata": {
    "pycharm": {
     "is_executing": false
    }
   },
   "outputs": [],
   "source": [
    "import pandas as pd\n",
    "import os\n",
    "os.chdir(os.path.expanduser('~/jmjeon/kaggle-rsna'))\n",
    "\n",
    "def get_path(path):\n",
    "    if path[0]=='~':\n",
    "        return os.path.expanduser(path)\n",
    "    else:\n",
    "        return path\n",
    "    \n",
    "path = './dataset/'\n",
    "# csv 확인\n",
    "df = pd.read_csv(get_path(path+'stage_1_train.csv'))"
   ]
  },
  {
   "cell_type": "code",
   "execution_count": 3,
   "metadata": {
    "pycharm": {
     "is_executing": false
    }
   },
   "outputs": [
    {
     "data": {
      "text/html": [
       "<div>\n",
       "<style scoped>\n",
       "    .dataframe tbody tr th:only-of-type {\n",
       "        vertical-align: middle;\n",
       "    }\n",
       "\n",
       "    .dataframe tbody tr th {\n",
       "        vertical-align: top;\n",
       "    }\n",
       "\n",
       "    .dataframe thead th {\n",
       "        text-align: right;\n",
       "    }\n",
       "</style>\n",
       "<table border=\"1\" class=\"dataframe\">\n",
       "  <thead>\n",
       "    <tr style=\"text-align: right;\">\n",
       "      <th></th>\n",
       "      <th>ID</th>\n",
       "      <th>Label</th>\n",
       "    </tr>\n",
       "  </thead>\n",
       "  <tbody>\n",
       "    <tr>\n",
       "      <th>0</th>\n",
       "      <td>ID_63eb1e259_epidural</td>\n",
       "      <td>0</td>\n",
       "    </tr>\n",
       "    <tr>\n",
       "      <th>1</th>\n",
       "      <td>ID_63eb1e259_intraparenchymal</td>\n",
       "      <td>0</td>\n",
       "    </tr>\n",
       "    <tr>\n",
       "      <th>2</th>\n",
       "      <td>ID_63eb1e259_intraventricular</td>\n",
       "      <td>0</td>\n",
       "    </tr>\n",
       "    <tr>\n",
       "      <th>3</th>\n",
       "      <td>ID_63eb1e259_subarachnoid</td>\n",
       "      <td>0</td>\n",
       "    </tr>\n",
       "    <tr>\n",
       "      <th>4</th>\n",
       "      <td>ID_63eb1e259_subdural</td>\n",
       "      <td>0</td>\n",
       "    </tr>\n",
       "    <tr>\n",
       "      <th>5</th>\n",
       "      <td>ID_63eb1e259_any</td>\n",
       "      <td>0</td>\n",
       "    </tr>\n",
       "  </tbody>\n",
       "</table>\n",
       "</div>"
      ],
      "text/plain": [
       "                              ID  Label\n",
       "0          ID_63eb1e259_epidural      0\n",
       "1  ID_63eb1e259_intraparenchymal      0\n",
       "2  ID_63eb1e259_intraventricular      0\n",
       "3      ID_63eb1e259_subarachnoid      0\n",
       "4          ID_63eb1e259_subdural      0\n",
       "5               ID_63eb1e259_any      0"
      ]
     },
     "execution_count": 3,
     "metadata": {},
     "output_type": "execute_result"
    }
   ],
   "source": [
    "df.head(6)"
   ]
  },
  {
   "cell_type": "markdown",
   "metadata": {},
   "source": [
    "### dicom 정보를 포함하는 dataFrame 생성"
   ]
  },
  {
   "cell_type": "code",
   "execution_count": 3,
   "metadata": {},
   "outputs": [
    {
     "data": {
      "application/vnd.jupyter.widget-view+json": {
       "model_id": "c048eaa47c454518aab7923168780bc4",
       "version_major": 2,
       "version_minor": 0
      },
      "text/plain": [
       "HBox(children=(IntProgress(value=1, bar_style='info', max=1), HTML(value='')))"
      ]
     },
     "metadata": {},
     "output_type": "display_data"
    },
    {
     "name": "stdout",
     "output_type": "stream",
     "text": [
      "\n"
     ]
    }
   ],
   "source": [
    "import pydicom\n",
    "from tqdm.notebook import tqdm\n",
    "\n",
    "train_df = []\n",
    "row = []\n",
    "\n",
    "tbar = tqdm(df.iterrows())\n",
    "for rows in tbar:\n",
    "\n",
    "    filename = rows[1][0][:12]\n",
    "    hm_type = rows[1][0][13:]\n",
    "    label = rows[1][1]\n",
    "    \n",
    "    if hm_type=='epidural':\n",
    "        row.append(filename)\n",
    "    \n",
    "    # epidural, intraparenchymal, intraventricular, subarachnoid, subdural, any 순서\n",
    "    row.append(label)\n",
    "    \n",
    "    if hm_type=='any':\n",
    "        dcm = pydicom.read_file(get_path(path+'stage_1_train_images/'+filename+'.dcm'))\n",
    "        row.append(dcm.PatientID)\n",
    "        row.append(dcm.StudyInstanceUID)\n",
    "        row.append(dcm.SeriesInstanceUID)\n",
    "        row.append(dcm.ImagePositionPatient)\n",
    "        row.append(dcm.SamplesPerPixel)\n",
    "        row.append(dcm.PixelSpacing)\n",
    "        row.append(dcm.PixelRepresentation)\n",
    "        row.append(dcm.WindowCenter)\n",
    "        row.append(dcm.WindowWidth)\n",
    "        row.append(dcm.RescaleIntercept)\n",
    "        row.append(dcm.RescaleSlope)\n",
    "    \n",
    "        train_df.append(row)\n",
    "\n",
    "        row = []\n",
    "\n",
    "    tbar.set_description(f'[{rows[0]}/{len(df)}]')"
   ]
  },
  {
   "cell_type": "code",
   "execution_count": 4,
   "metadata": {},
   "outputs": [],
   "source": [
    "# dataFrame 만들고 저장\n",
    "header=['filename', 'epidural', 'intraparenchymal', 'intraventricular', 'subarachnoid', 'subdural', 'any', 'patient_id', 'study_instance_uid', 'series_instance_uid', 'image_position', 'samples_per_pixel', 'pixel_spacing', 'pixel_representation', 'window_center', 'window_width', 'rescale_intercept', 'rescale_slope']\n",
    "train_df = pd.DataFrame(train_df, columns=header)\n",
    "train_df.to_csv('stage_1_train_cls.csv', index=None)"
   ]
  },
  {
   "cell_type": "code",
   "execution_count": 5,
   "metadata": {},
   "outputs": [
    {
     "data": {
      "text/html": [
       "<div>\n",
       "<style scoped>\n",
       "    .dataframe tbody tr th:only-of-type {\n",
       "        vertical-align: middle;\n",
       "    }\n",
       "\n",
       "    .dataframe tbody tr th {\n",
       "        vertical-align: top;\n",
       "    }\n",
       "\n",
       "    .dataframe thead th {\n",
       "        text-align: right;\n",
       "    }\n",
       "</style>\n",
       "<table border=\"1\" class=\"dataframe\">\n",
       "  <thead>\n",
       "    <tr style=\"text-align: right;\">\n",
       "      <th></th>\n",
       "      <th>filename</th>\n",
       "      <th>epidural</th>\n",
       "      <th>intraparenchymal</th>\n",
       "      <th>intraventricular</th>\n",
       "      <th>subarachnoid</th>\n",
       "      <th>subdural</th>\n",
       "      <th>any</th>\n",
       "      <th>patient_id</th>\n",
       "      <th>study_instance_uid</th>\n",
       "      <th>series_instance_uid</th>\n",
       "      <th>image_position</th>\n",
       "      <th>samples_per_pixel</th>\n",
       "      <th>pixel_spacing</th>\n",
       "      <th>pixel_representation</th>\n",
       "      <th>window_center</th>\n",
       "      <th>window_width</th>\n",
       "      <th>rescale_intercept</th>\n",
       "      <th>rescale_slope</th>\n",
       "    </tr>\n",
       "  </thead>\n",
       "  <tbody>\n",
       "    <tr>\n",
       "      <td>0</td>\n",
       "      <td>ID_63eb1e259</td>\n",
       "      <td>0</td>\n",
       "      <td>0</td>\n",
       "      <td>0</td>\n",
       "      <td>0</td>\n",
       "      <td>0</td>\n",
       "      <td>0</td>\n",
       "      <td>ID_a449357f</td>\n",
       "      <td>ID_62d125e5b2</td>\n",
       "      <td>ID_0be5c0d1b3</td>\n",
       "      <td>[-125, -8, 180.199951]</td>\n",
       "      <td>1</td>\n",
       "      <td>[0.48828125, 0.48828125]</td>\n",
       "      <td>0</td>\n",
       "      <td>[00036, 00036]</td>\n",
       "      <td>[00080, 00080]</td>\n",
       "      <td>-1024.0</td>\n",
       "      <td>1.0</td>\n",
       "    </tr>\n",
       "    <tr>\n",
       "      <td>1</td>\n",
       "      <td>ID_2669954a7</td>\n",
       "      <td>0</td>\n",
       "      <td>0</td>\n",
       "      <td>0</td>\n",
       "      <td>0</td>\n",
       "      <td>0</td>\n",
       "      <td>0</td>\n",
       "      <td>ID_363d5865</td>\n",
       "      <td>ID_a20b80c7bf</td>\n",
       "      <td>ID_3564d584db</td>\n",
       "      <td>[-156, 45.5728491, 922.530821]</td>\n",
       "      <td>1</td>\n",
       "      <td>[0.48828125, 0.48828125]</td>\n",
       "      <td>0</td>\n",
       "      <td>[00047, 00047]</td>\n",
       "      <td>[00080, 00080]</td>\n",
       "      <td>-1024.0</td>\n",
       "      <td>1.0</td>\n",
       "    </tr>\n",
       "    <tr>\n",
       "      <td>2</td>\n",
       "      <td>ID_52c9913b1</td>\n",
       "      <td>0</td>\n",
       "      <td>0</td>\n",
       "      <td>0</td>\n",
       "      <td>0</td>\n",
       "      <td>0</td>\n",
       "      <td>0</td>\n",
       "      <td>ID_9c2b4bd7</td>\n",
       "      <td>ID_3e3634f8cf</td>\n",
       "      <td>ID_973274ffc9</td>\n",
       "      <td>[-125.000, -115.063, 4.455]</td>\n",
       "      <td>1</td>\n",
       "      <td>[0.488281, 0.488281]</td>\n",
       "      <td>1</td>\n",
       "      <td>40</td>\n",
       "      <td>150</td>\n",
       "      <td>-1024.0</td>\n",
       "      <td>1.0</td>\n",
       "    </tr>\n",
       "    <tr>\n",
       "      <td>3</td>\n",
       "      <td>ID_4e6ff6126</td>\n",
       "      <td>0</td>\n",
       "      <td>0</td>\n",
       "      <td>0</td>\n",
       "      <td>0</td>\n",
       "      <td>0</td>\n",
       "      <td>0</td>\n",
       "      <td>ID_3ae81c2d</td>\n",
       "      <td>ID_a1390c15c2</td>\n",
       "      <td>ID_e5ccad8244</td>\n",
       "      <td>[-99.5, 28.5, 100]</td>\n",
       "      <td>1</td>\n",
       "      <td>[0.388671875, 0.388671875]</td>\n",
       "      <td>0</td>\n",
       "      <td>[00036, 00036]</td>\n",
       "      <td>[00080, 00080]</td>\n",
       "      <td>-1024.0</td>\n",
       "      <td>1.0</td>\n",
       "    </tr>\n",
       "    <tr>\n",
       "      <td>4</td>\n",
       "      <td>ID_7858edd88</td>\n",
       "      <td>0</td>\n",
       "      <td>0</td>\n",
       "      <td>0</td>\n",
       "      <td>0</td>\n",
       "      <td>0</td>\n",
       "      <td>0</td>\n",
       "      <td>ID_c1867feb</td>\n",
       "      <td>ID_c73e81ed3a</td>\n",
       "      <td>ID_28e0531b3a</td>\n",
       "      <td>[-125.000, -132.190, 145.793]</td>\n",
       "      <td>1</td>\n",
       "      <td>[0.488281, 0.488281]</td>\n",
       "      <td>1</td>\n",
       "      <td>40</td>\n",
       "      <td>100</td>\n",
       "      <td>-1024.0</td>\n",
       "      <td>1.0</td>\n",
       "    </tr>\n",
       "  </tbody>\n",
       "</table>\n",
       "</div>"
      ],
      "text/plain": [
       "       filename  epidural  intraparenchymal  intraventricular  subarachnoid  \\\n",
       "0  ID_63eb1e259         0                 0                 0             0   \n",
       "1  ID_2669954a7         0                 0                 0             0   \n",
       "2  ID_52c9913b1         0                 0                 0             0   \n",
       "3  ID_4e6ff6126         0                 0                 0             0   \n",
       "4  ID_7858edd88         0                 0                 0             0   \n",
       "\n",
       "   subdural  any   patient_id study_instance_uid series_instance_uid  \\\n",
       "0         0    0  ID_a449357f      ID_62d125e5b2       ID_0be5c0d1b3   \n",
       "1         0    0  ID_363d5865      ID_a20b80c7bf       ID_3564d584db   \n",
       "2         0    0  ID_9c2b4bd7      ID_3e3634f8cf       ID_973274ffc9   \n",
       "3         0    0  ID_3ae81c2d      ID_a1390c15c2       ID_e5ccad8244   \n",
       "4         0    0  ID_c1867feb      ID_c73e81ed3a       ID_28e0531b3a   \n",
       "\n",
       "                   image_position  samples_per_pixel  \\\n",
       "0          [-125, -8, 180.199951]                  1   \n",
       "1  [-156, 45.5728491, 922.530821]                  1   \n",
       "2     [-125.000, -115.063, 4.455]                  1   \n",
       "3              [-99.5, 28.5, 100]                  1   \n",
       "4   [-125.000, -132.190, 145.793]                  1   \n",
       "\n",
       "                pixel_spacing  pixel_representation   window_center  \\\n",
       "0    [0.48828125, 0.48828125]                     0  [00036, 00036]   \n",
       "1    [0.48828125, 0.48828125]                     0  [00047, 00047]   \n",
       "2        [0.488281, 0.488281]                     1              40   \n",
       "3  [0.388671875, 0.388671875]                     0  [00036, 00036]   \n",
       "4        [0.488281, 0.488281]                     1              40   \n",
       "\n",
       "     window_width  rescale_intercept  rescale_slope  \n",
       "0  [00080, 00080]            -1024.0            1.0  \n",
       "1  [00080, 00080]            -1024.0            1.0  \n",
       "2             150            -1024.0            1.0  \n",
       "3  [00080, 00080]            -1024.0            1.0  \n",
       "4             100            -1024.0            1.0  "
      ]
     },
     "execution_count": 5,
     "metadata": {},
     "output_type": "execute_result"
    }
   ],
   "source": [
    "train_df.head()"
   ]
  },
  {
   "cell_type": "code",
   "execution_count": 6,
   "metadata": {},
   "outputs": [
    {
     "data": {
      "text/plain": [
       "((17079,), (19530,))"
      ]
     },
     "execution_count": 6,
     "metadata": {},
     "output_type": "execute_result"
    }
   ],
   "source": [
    "train_df['patient_id'].unique().shape, train_df['study_instance_uid'].unique().shape"
   ]
  },
  {
   "cell_type": "markdown",
   "metadata": {},
   "source": [
    "# stage_2_test 데이터 프레임 생성\n",
    "* dicom파일의 meta정보를 이용하여 dataframe생성"
   ]
  },
  {
   "cell_type": "markdown",
   "metadata": {},
   "source": [
    "### 데이터셋 읽기"
   ]
  },
  {
   "cell_type": "code",
   "execution_count": 1,
   "metadata": {},
   "outputs": [],
   "source": [
    "import os\n",
    "import pandas as pd\n",
    "from tqdm import tqdm\n",
    "import pydicom\n",
    "\n",
    "path = '/home/ubuntu/jmjeon/rsna-intracranial-hemorrhage-detection/stage_2_test'\n",
    "dicom_files = os.listdir(path)"
   ]
  },
  {
   "cell_type": "markdown",
   "metadata": {},
   "source": [
    "### dicom 정보를 포함하는 dataFrame 생성"
   ]
  },
  {
   "cell_type": "code",
   "execution_count": 2,
   "metadata": {},
   "outputs": [
    {
     "name": "stderr",
     "output_type": "stream",
     "text": [
      "100%|██████████| 121232/121232 [11:22<00:00, 177.69it/s]\n"
     ]
    }
   ],
   "source": [
    "test_df = []\n",
    "for dicom in tqdm(dicom_files):\n",
    "    \n",
    "    row = []\n",
    "    \n",
    "    filename = dicom\n",
    "\n",
    "    dcm = pydicom.read_file(os.path.join(path, filename))\n",
    "    \n",
    "    row.append(filename.replace('.dcm',''))\n",
    "    # label just for format\n",
    "    for i in range(6):\n",
    "        row.append(0)        \n",
    "    row.append(dcm.PatientID)\n",
    "    row.append(dcm.StudyInstanceUID)\n",
    "    row.append(dcm.SeriesInstanceUID)\n",
    "    row.append(dcm.ImagePositionPatient)\n",
    "    row.append(dcm.SamplesPerPixel)\n",
    "    row.append(dcm.PixelSpacing)\n",
    "    row.append(dcm.PixelRepresentation)\n",
    "    row.append(dcm.WindowCenter)\n",
    "    row.append(dcm.WindowWidth)\n",
    "    row.append(dcm.RescaleIntercept)\n",
    "    row.append(dcm.RescaleSlope)\n",
    "    \n",
    "    test_df.append(row)\n",
    "    "
   ]
  },
  {
   "cell_type": "code",
   "execution_count": 4,
   "metadata": {},
   "outputs": [],
   "source": [
    "# dataFrame 만들고 저장\n",
    "header=['filename', 'epidural', 'intraparenchymal', 'intraventricular', 'subarachnoid', 'subdural', 'any', 'patient_id', 'study_instance_uid', 'series_instance_uid', 'image_position', 'samples_per_pixel', 'pixel_spacing', 'pixel_representation', 'window_center', 'window_width', 'rescale_intercept', 'rescale_slope']\n",
    "test_df = pd.DataFrame(test_df, columns=header)\n",
    "test_df.to_csv('../dataset/stage_2_test_cls.csv', index=None)"
   ]
  },
  {
   "cell_type": "code",
   "execution_count": 5,
   "metadata": {},
   "outputs": [
    {
     "data": {
      "text/html": [
       "<div>\n",
       "<style scoped>\n",
       "    .dataframe tbody tr th:only-of-type {\n",
       "        vertical-align: middle;\n",
       "    }\n",
       "\n",
       "    .dataframe tbody tr th {\n",
       "        vertical-align: top;\n",
       "    }\n",
       "\n",
       "    .dataframe thead th {\n",
       "        text-align: right;\n",
       "    }\n",
       "</style>\n",
       "<table border=\"1\" class=\"dataframe\">\n",
       "  <thead>\n",
       "    <tr style=\"text-align: right;\">\n",
       "      <th></th>\n",
       "      <th>filename</th>\n",
       "      <th>epidural</th>\n",
       "      <th>intraparenchymal</th>\n",
       "      <th>intraventricular</th>\n",
       "      <th>subarachnoid</th>\n",
       "      <th>subdural</th>\n",
       "      <th>any</th>\n",
       "      <th>patient_id</th>\n",
       "      <th>study_instance_uid</th>\n",
       "      <th>series_instance_uid</th>\n",
       "      <th>image_position</th>\n",
       "      <th>samples_per_pixel</th>\n",
       "      <th>pixel_spacing</th>\n",
       "      <th>pixel_representation</th>\n",
       "      <th>window_center</th>\n",
       "      <th>window_width</th>\n",
       "      <th>rescale_intercept</th>\n",
       "      <th>rescale_slope</th>\n",
       "    </tr>\n",
       "  </thead>\n",
       "  <tbody>\n",
       "    <tr>\n",
       "      <th>0</th>\n",
       "      <td>ID_57c3c0e68</td>\n",
       "      <td>0</td>\n",
       "      <td>0</td>\n",
       "      <td>0</td>\n",
       "      <td>0</td>\n",
       "      <td>0</td>\n",
       "      <td>0</td>\n",
       "      <td>ID_6be49c67</td>\n",
       "      <td>ID_73f1f42302</td>\n",
       "      <td>ID_9c277b7ad1</td>\n",
       "      <td>[-126.408875, -126.408875, -231.713654]</td>\n",
       "      <td>1</td>\n",
       "      <td>[0.494750976563, 0.494750976563]</td>\n",
       "      <td>1</td>\n",
       "      <td>35</td>\n",
       "      <td>135</td>\n",
       "      <td>-1024.0</td>\n",
       "      <td>1.0</td>\n",
       "    </tr>\n",
       "    <tr>\n",
       "      <th>1</th>\n",
       "      <td>ID_a10185368</td>\n",
       "      <td>0</td>\n",
       "      <td>0</td>\n",
       "      <td>0</td>\n",
       "      <td>0</td>\n",
       "      <td>0</td>\n",
       "      <td>0</td>\n",
       "      <td>ID_13a98073</td>\n",
       "      <td>ID_52b738ab7b</td>\n",
       "      <td>ID_c7595b5b3f</td>\n",
       "      <td>[-125.000, -108.000, 62.500]</td>\n",
       "      <td>1</td>\n",
       "      <td>[0.488281, 0.488281]</td>\n",
       "      <td>1</td>\n",
       "      <td>40</td>\n",
       "      <td>150</td>\n",
       "      <td>-1024.0</td>\n",
       "      <td>1.0</td>\n",
       "    </tr>\n",
       "    <tr>\n",
       "      <th>2</th>\n",
       "      <td>ID_15c931500</td>\n",
       "      <td>0</td>\n",
       "      <td>0</td>\n",
       "      <td>0</td>\n",
       "      <td>0</td>\n",
       "      <td>0</td>\n",
       "      <td>0</td>\n",
       "      <td>ID_98b1a444</td>\n",
       "      <td>ID_46850e15b0</td>\n",
       "      <td>ID_16e0e1d2a1</td>\n",
       "      <td>[-125.000, -141.384, 80.664]</td>\n",
       "      <td>1</td>\n",
       "      <td>[0.488281, 0.488281]</td>\n",
       "      <td>1</td>\n",
       "      <td>30</td>\n",
       "      <td>80</td>\n",
       "      <td>-1024.0</td>\n",
       "      <td>1.0</td>\n",
       "    </tr>\n",
       "    <tr>\n",
       "      <th>3</th>\n",
       "      <td>ID_a3bac3e6b</td>\n",
       "      <td>0</td>\n",
       "      <td>0</td>\n",
       "      <td>0</td>\n",
       "      <td>0</td>\n",
       "      <td>0</td>\n",
       "      <td>0</td>\n",
       "      <td>ID_007e7be5</td>\n",
       "      <td>ID_154e0d735f</td>\n",
       "      <td>ID_091f4b8f2c</td>\n",
       "      <td>[-125.000, -129.423, 150.908]</td>\n",
       "      <td>1</td>\n",
       "      <td>[0.488281, 0.488281]</td>\n",
       "      <td>1</td>\n",
       "      <td>30</td>\n",
       "      <td>80</td>\n",
       "      <td>-1024.0</td>\n",
       "      <td>1.0</td>\n",
       "    </tr>\n",
       "    <tr>\n",
       "      <th>4</th>\n",
       "      <td>ID_28feed104</td>\n",
       "      <td>0</td>\n",
       "      <td>0</td>\n",
       "      <td>0</td>\n",
       "      <td>0</td>\n",
       "      <td>0</td>\n",
       "      <td>0</td>\n",
       "      <td>ID_ac5d1815</td>\n",
       "      <td>ID_7dd2a00ba1</td>\n",
       "      <td>ID_01f06c7cb6</td>\n",
       "      <td>[-116.5, 2.5, 157.900024]</td>\n",
       "      <td>1</td>\n",
       "      <td>[0.455078125, 0.455078125]</td>\n",
       "      <td>0</td>\n",
       "      <td>[00036, 00036]</td>\n",
       "      <td>[00080, 00080]</td>\n",
       "      <td>-1024.0</td>\n",
       "      <td>1.0</td>\n",
       "    </tr>\n",
       "  </tbody>\n",
       "</table>\n",
       "</div>"
      ],
      "text/plain": [
       "       filename  epidural  intraparenchymal  intraventricular  subarachnoid  \\\n",
       "0  ID_57c3c0e68         0                 0                 0             0   \n",
       "1  ID_a10185368         0                 0                 0             0   \n",
       "2  ID_15c931500         0                 0                 0             0   \n",
       "3  ID_a3bac3e6b         0                 0                 0             0   \n",
       "4  ID_28feed104         0                 0                 0             0   \n",
       "\n",
       "   subdural  any   patient_id study_instance_uid series_instance_uid  \\\n",
       "0         0    0  ID_6be49c67      ID_73f1f42302       ID_9c277b7ad1   \n",
       "1         0    0  ID_13a98073      ID_52b738ab7b       ID_c7595b5b3f   \n",
       "2         0    0  ID_98b1a444      ID_46850e15b0       ID_16e0e1d2a1   \n",
       "3         0    0  ID_007e7be5      ID_154e0d735f       ID_091f4b8f2c   \n",
       "4         0    0  ID_ac5d1815      ID_7dd2a00ba1       ID_01f06c7cb6   \n",
       "\n",
       "                            image_position  samples_per_pixel  \\\n",
       "0  [-126.408875, -126.408875, -231.713654]                  1   \n",
       "1             [-125.000, -108.000, 62.500]                  1   \n",
       "2             [-125.000, -141.384, 80.664]                  1   \n",
       "3            [-125.000, -129.423, 150.908]                  1   \n",
       "4                [-116.5, 2.5, 157.900024]                  1   \n",
       "\n",
       "                      pixel_spacing  pixel_representation   window_center  \\\n",
       "0  [0.494750976563, 0.494750976563]                     1              35   \n",
       "1              [0.488281, 0.488281]                     1              40   \n",
       "2              [0.488281, 0.488281]                     1              30   \n",
       "3              [0.488281, 0.488281]                     1              30   \n",
       "4        [0.455078125, 0.455078125]                     0  [00036, 00036]   \n",
       "\n",
       "     window_width  rescale_intercept  rescale_slope  \n",
       "0             135            -1024.0            1.0  \n",
       "1             150            -1024.0            1.0  \n",
       "2              80            -1024.0            1.0  \n",
       "3              80            -1024.0            1.0  \n",
       "4  [00080, 00080]            -1024.0            1.0  "
      ]
     },
     "execution_count": 5,
     "metadata": {},
     "output_type": "execute_result"
    }
   ],
   "source": [
    "test_df.head()"
   ]
  },
  {
   "cell_type": "code",
   "execution_count": 6,
   "metadata": {},
   "outputs": [
    {
     "data": {
      "text/plain": [
       "((3518,), (3518,))"
      ]
     },
     "execution_count": 6,
     "metadata": {},
     "output_type": "execute_result"
    }
   ],
   "source": [
    "test_df['patient_id'].unique().shape, test_df['study_instance_uid'].unique().shape"
   ]
  }
 ],
 "metadata": {
  "kernelspec": {
   "display_name": "Environment (conda_pytorch_latest_p36)",
   "language": "python",
   "name": "conda_pytorch_latest_p36"
  },
  "language_info": {
   "codemirror_mode": {
    "name": "ipython",
    "version": 3
   },
   "file_extension": ".py",
   "mimetype": "text/x-python",
   "name": "python",
   "nbconvert_exporter": "python",
   "pygments_lexer": "ipython3",
   "version": "3.6.10"
  },
  "pycharm": {
   "stem_cell": {
    "cell_type": "raw",
    "metadata": {
     "collapsed": false
    },
    "source": []
   }
  }
 },
 "nbformat": 4,
 "nbformat_minor": 4
}
